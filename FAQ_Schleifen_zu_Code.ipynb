{
 "cells": [
  {
   "cell_type": "markdown",
   "metadata": {},
   "source": [
    "# Schleifen als einzelne Befehle ausgeben (loop extension)\n",
    "\n",
    "In der Datenaufbereitung erweisen sich Schleifen oft als Arbeitsersparnis, jedoch sind sie je nach Kenntnisstand der Bearbeiter_innen nicht leicht nachzuvollziehen. Daher lautet eine Regel der Datenaufbereitung: **Einfach und KEINE Schleifen**. Zukünftige Bearbeiter_innen der Blöcke sollen sich in den Prüf-Do-Files schnell zurechtfinden.\n",
    "\n",
    "Daher an dieser Stelle kurz und bündig wie eine Schleife als einzelne Kommandos ausgegeben werden kann:"
   ]
  },
  {
   "cell_type": "markdown",
   "metadata": {},
   "source": [
    "### Beispiel: Missings definieren auf einer String-Variablen"
   ]
  },
  {
   "cell_type": "markdown",
   "metadata": {},
   "source": [
    "** di `\" code\"' **  garantiert, dass Anführungszeichen genauso erhalten bleiben wie sie im Code stehen."
   ]
  },
  {
   "cell_type": "code",
   "execution_count": 3,
   "metadata": {
    "collapsed": false
   },
   "outputs": [
    {
     "name": "stdout",
     "output_type": "stream",
     "text": [
      ". forvalues i = 1/8 {\n",
      "  2. di `\" replace ic600a_`i'= \"-1 verweigert\"            if ic600a_`i' == \"7\" \"\n",
      "> '\n",
      "  3. di `\" replace ic600a_`i'= \"-2 weiss nicht\"           if ic600a_`i' == \"8\" \"\n",
      "> '\n",
      "  4. di `\" replace ic600a_`i'= \"-3 ueberfiltert\"          if ic600a_`i' == \"\" \"'\n",
      "  5. di `\" replace ic600a_`i'= \"999 Person nicht genannt\" if ic600a_`i' == \"999\"\n",
      ">  \"' \n",
      "  6. }\n",
      " replace ic600a_1= \"-1 verweigert\"            if ic600a_1 == \"7\" \n",
      " replace ic600a_1= \"-2 weiss nicht\"           if ic600a_1 == \"8\" \n",
      " replace ic600a_1= \"-3 ueberfiltert\"          if ic600a_1 == \"\" \n",
      " replace ic600a_1= \"999 Person nicht genannt\" if ic600a_1 == \"999\" \n",
      " replace ic600a_2= \"-1 verweigert\"            if ic600a_2 == \"7\" \n",
      " replace ic600a_2= \"-2 weiss nicht\"           if ic600a_2 == \"8\" \n",
      " replace ic600a_2= \"-3 ueberfiltert\"          if ic600a_2 == \"\" \n",
      " replace ic600a_2= \"999 Person nicht genannt\" if ic600a_2 == \"999\" \n",
      " replace ic600a_3= \"-1 verweigert\"            if ic600a_3 == \"7\" \n",
      " replace ic600a_3= \"-2 weiss nicht\"           if ic600a_3 == \"8\" \n",
      " replace ic600a_3= \"-3 ueberfiltert\"          if ic600a_3 == \"\" \n",
      " replace ic600a_3= \"999 Person nicht genannt\" if ic600a_3 == \"999\" \n",
      " replace ic600a_4= \"-1 verweigert\"            if ic600a_4 == \"7\" \n",
      " replace ic600a_4= \"-2 weiss nicht\"           if ic600a_4 == \"8\" \n",
      " replace ic600a_4= \"-3 ueberfiltert\"          if ic600a_4 == \"\" \n",
      " replace ic600a_4= \"999 Person nicht genannt\" if ic600a_4 == \"999\" \n",
      " replace ic600a_5= \"-1 verweigert\"            if ic600a_5 == \"7\" \n",
      " replace ic600a_5= \"-2 weiss nicht\"           if ic600a_5 == \"8\" \n",
      " replace ic600a_5= \"-3 ueberfiltert\"          if ic600a_5 == \"\" \n",
      " replace ic600a_5= \"999 Person nicht genannt\" if ic600a_5 == \"999\" \n",
      " replace ic600a_6= \"-1 verweigert\"            if ic600a_6 == \"7\" \n",
      " replace ic600a_6= \"-2 weiss nicht\"           if ic600a_6 == \"8\" \n",
      " replace ic600a_6= \"-3 ueberfiltert\"          if ic600a_6 == \"\" \n",
      " replace ic600a_6= \"999 Person nicht genannt\" if ic600a_6 == \"999\" \n",
      " replace ic600a_7= \"-1 verweigert\"            if ic600a_7 == \"7\" \n",
      " replace ic600a_7= \"-2 weiss nicht\"           if ic600a_7 == \"8\" \n",
      " replace ic600a_7= \"-3 ueberfiltert\"          if ic600a_7 == \"\" \n",
      " replace ic600a_7= \"999 Person nicht genannt\" if ic600a_7 == \"999\" \n",
      " replace ic600a_8= \"-1 verweigert\"            if ic600a_8 == \"7\" \n",
      " replace ic600a_8= \"-2 weiss nicht\"           if ic600a_8 == \"8\" \n",
      " replace ic600a_8= \"-3 ueberfiltert\"          if ic600a_8 == \"\" \n",
      " replace ic600a_8= \"999 Person nicht genannt\" if ic600a_8 == \"999\" \n",
      "\n",
      ". * \"\n",
      "\n"
     ]
    }
   ],
   "source": [
    "forvalues i = 1/8 {\n",
    "\tdi `\" replace ic600a_`i'= \"-1 verweigert\"            if ic600a_`i' == \"7\" \"'\n",
    "\tdi `\" replace ic600a_`i'= \"-2 weiss nicht\"           if ic600a_`i' == \"8\" \"'\n",
    "\tdi `\" replace ic600a_`i'= \"-3 ueberfiltert\"          if ic600a_`i' == \"\" \"'\n",
    "\tdi `\" replace ic600a_`i'= \"999 Person nicht genannt\" if ic600a_`i' == \"999\" \"' \n",
    "}\n",
    "* \""
   ]
  },
  {
   "cell_type": "markdown",
   "metadata": {},
   "source": [
    "Anstatt sich die die *Befehle* im Fenster ausgeben zu lassen, ist es auch möglich sich die  *Befehle* direkt in ein Do-File zu schreiben (was ein einfaches Textdokument mit der Endung \".do\" ist)"
   ]
  },
  {
   "cell_type": "code",
   "execution_count": 10,
   "metadata": {
    "collapsed": false
   },
   "outputs": [
    {
     "name": "stdout",
     "output_type": "stream",
     "text": [
      ". help file  // some information on input/output in STATA.\n",
      "\n",
      ". file open code using missings_replace_manually.do, write text replace \n",
      "\n",
      ". forvalues i = 1/8 {\n",
      "  2. file write code `\" replace ic600a_`i'= \"-1 verweigert\" if ic600a_`i' == \"7\" \"' _n\n",
      "  3. file write code `\" replace ic600a_`i'= \"-2 weiss nicht\" if ic600a_`i' == \"8\" \"' _n\n",
      "  4. file write code `\" replace ic600a_`i'= \"-3 ueberfiltert\" if ic600a_`i' == \"\" \"' _n\n",
      "  5. file write code `\" replace ic600a_`i'= \"999 Person nicht genannt\" if ic600a_`i' == \"999\" \"' _n\n",
      "  6. }\n",
      "\n",
      ". file close code\n",
      "\n"
     ]
    }
   ],
   "source": [
    "help file  // some information on input/output in STATA.\n",
    "file open code using missings_replace_manually.do, write text replace \n",
    "forvalues i = 1/8 {\n",
    "\tfile write code `\" replace ic600a_`i'= \"-1 verweigert\" if ic600a_`i' == \"7\" \"' _n\n",
    "\tfile write code `\" replace ic600a_`i'= \"-2 weiss nicht\" if ic600a_`i' == \"8\" \"' _n\n",
    "\tfile write code `\" replace ic600a_`i'= \"-3 ueberfiltert\" if ic600a_`i' == \"\" \"' _n\n",
    "\tfile write code `\" replace ic600a_`i'= \"999 Person nicht genannt\" if ic600a_`i' == \"999\" \"' _n\n",
    "}\n",
    "file close code "
   ]
  },
  {
   "cell_type": "markdown",
   "metadata": {},
   "source": [
    "Die Datei wurde im aktuellen Arbeitsverzeichnis von Stata angelegt:"
   ]
  },
  {
   "cell_type": "code",
   "execution_count": 4,
   "metadata": {
    "collapsed": false
   },
   "outputs": [
    {
     "name": "stdout",
     "output_type": "stream",
     "text": [
      ". cd\n",
      "C:\\Users\\Webel\\Desktop\\Notebooks_FAQ\n",
      "\n"
     ]
    }
   ],
   "source": [
    "cd"
   ]
  },
  {
   "cell_type": "code",
   "execution_count": 8,
   "metadata": {
    "collapsed": false
   },
   "outputs": [
    {
     "name": "stdout",
     "output_type": "stream",
     "text": [
      ". dir missings*\n",
      "   1.9k   6/22/17 15:28  missings_replace_manually.do\n",
      "\n"
     ]
    }
   ],
   "source": [
    "dir missings*"
   ]
  },
  {
   "cell_type": "markdown",
   "metadata": {},
   "source": [
    "### Ausführliches Beispiel aus der Datenaufbereitung des 600ter Blocks\n",
    "\n",
    "... könnte hier noch folgen"
   ]
  },
  {
   "cell_type": "code",
   "execution_count": null,
   "metadata": {
    "collapsed": true
   },
   "outputs": [],
   "source": []
  }
 ],
 "metadata": {
  "anaconda-cloud": {},
  "kernelspec": {
   "display_name": "Stata",
   "language": "stata",
   "name": "stata"
  },
  "language_info": {
   "file_extension": ".do",
   "mimetype": "text/x-stata",
   "name": "stata"
  }
 },
 "nbformat": 4,
 "nbformat_minor": 1
}
