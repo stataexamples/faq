{
 "cells": [
  {
   "cell_type": "markdown",
   "metadata": {},
   "source": [
    "# Why odds are misleading\n",
    "\n",
    "A change from 25% to 32% points in relative frequency of something has the same odds as the change from 3% to 4%:"
   ]
  },
  {
   "cell_type": "code",
   "execution_count": 2,
   "metadata": {
    "collapsed": false
   },
   "outputs": [
    {
     "name": "stdout",
     "output_type": "stream",
     "text": [
      ". di 24/32 \" and \" 3/4\n",
      ".75 and .75\n",
      "\n"
     ]
    }
   ],
   "source": [
    "di 24/32 \" and \" 3/4"
   ]
  }
 ],
 "metadata": {
  "kernelspec": {
   "display_name": "Stata",
   "language": "stata",
   "name": "stata"
  },
  "language_info": {
   "file_extension": "do",
   "mimetype": "text/x-stata",
   "name": "stata"
  }
 },
 "nbformat": 4,
 "nbformat_minor": 0
}
